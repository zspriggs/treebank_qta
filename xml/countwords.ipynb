{
 "cells": [
  {
   "cell_type": "code",
   "execution_count": 1,
   "metadata": {},
   "outputs": [
    {
     "name": "stdout",
     "output_type": "stream",
     "text": [
      "232512 {'0012': 200326, '0013': 15884, '0020': 16302} 17544 {'0012': 15135, '0013': 1227, '0020': 1182}\n"
     ]
    }
   ],
   "source": [
    "import re\n",
    "\n",
    "\n",
    "tbfiles = {'0012-001.xml':'Iliad','0012-002.xml':'Odyssey',\n",
    "        '0013-001.xml' : 'Homeric Hymn 1',\n",
    "'0013-002.xml' : 'Homeric Hymn 2',\n",
    "'0013-003.xml' : 'Homeric Hymn 3',\n",
    "'0013-004.xml' : 'Homeric Hymn 4',\n",
    "'0013-005.xml' : 'Homeric Hymn 5',\n",
    "'0013-006.xml' : 'Homeric Hymn 6',\n",
    "'0013-007.xml' : 'Homeric Hymn 7',\n",
    "'0013-009.xml' : 'Homeric Hymn 9',\n",
    "'0013-010.xml' : 'Homeric Hymn 10',\n",
    "'0013-011.xml' : 'Homeric Hymn 11',\n",
    "'0013-012.xml' : 'Homeric Hymn 12',\n",
    "'0013-013.xml' : 'Homeric Hymn 13',\n",
    "'0013-014.xml' : 'Homeric Hymn 14',\n",
    "'0013-015.xml' : 'Homeric Hymn 15',\n",
    "'0013-016.xml' : 'Homeric Hymn 16',\n",
    "'0013-017.xml' : 'Homeric Hymn 17',\n",
    "'0013-018.xml' : 'Homeric Hymn 18',\n",
    "'0013-019.xml' : 'Homeric Hymn 19',\n",
    "'0013-020.xml' : 'Homeric Hymn 20',\n",
    "'0013-021.xml' : 'Homeric Hymn 21',\n",
    "'0013-022.xml' : 'Homeric Hymn 22',\n",
    "'0013-023.xml' : 'Homeric Hymn 23',\n",
    "'0013-024.xml' : 'Homeric Hymn 24',\n",
    "'0013-025.xml' : 'Homeric Hymn 25',\n",
    "'0013-026.xml' : 'Homeric Hymn 26',\n",
    "'0013-027.xml' : 'Homeric Hymn 27',\n",
    "'0013-028.xml' : 'Homeric Hymn 28',\n",
    "'0013-029.xml' : 'Homeric Hymn 29',\n",
    "'0013-030.xml' : 'Homeric Hymn 30',\n",
    "'0013-031.xml' : 'Homeric Hymn 31',\n",
    "'0013-032.xml' : 'Homeric Hymn 32',\n",
    "'0013-033.xml' : 'Homeric Hymn 33',\n",
    "'0020-001.xml' : 'Theogony',\n",
    "'0020-002.xml' : 'Works and Days',\n",
    "'0020-003.xml' : 'Shield',\n",
    "}\n",
    "\n",
    "worktokens = {}\n",
    "worksents = {}\n",
    "tgrouptokens = {}\n",
    "tgroupsents = {}\n",
    "for foo in tbfiles:\n",
    "    worktokens[foo] = 0\n",
    "    worksents[foo] = 0\n",
    "    curtg = re.sub('(^[0-9]+)-.+','\\g<1>',foo)\n",
    "    tgrouptokens[curtg] = 0\n",
    "    tgroupsents[curtg] = 0\n",
    "    \n",
    "\n",
    "tottokens = 0\n",
    "totsents = 0\n",
    "def counttokens(fname):\n",
    "    global tottokens\n",
    "    global totsents\n",
    "    f = open(fname)\n",
    "    for l in f:\n",
    "        if(re.search('<sentence',l)):\n",
    "            worksents[fname] = worksents[fname] + 1\n",
    "            curtg = re.sub('(^[0-9]+)-.+','\\g<1>',foo)\n",
    "            tgroupsents[curtg] = tgroupsents[curtg] + 1\n",
    "            totsents = totsents + 1\n",
    "\n",
    "            \n",
    "        if(re.search('postag=\"u',l)):\n",
    "            continue\n",
    "        m = re.search('form=\"([^\"]+)\"',l)\n",
    "        if(m):\n",
    "            tottokens = tottokens + 1\n",
    "            worktokens[fname] = worktokens[fname] + 1\n",
    "            curtg = re.sub('(^[0-9]+)-.+','\\g<1>',foo)\n",
    "            tgrouptokens[curtg] = tgrouptokens[curtg] + 1\n",
    "\n",
    "    f.close()\n",
    "    \n",
    "    \n",
    "for foo in tbfiles:\n",
    "    counttokens(foo)\n",
    "    \n",
    "print(tottokens,tgrouptokens,totsents,tgroupsents)"
   ]
  },
  {
   "cell_type": "code",
   "execution_count": 3,
   "metadata": {},
   "outputs": [
    {
     "data": {
      "text/plain": [
       "{'0012-001.xml': 'Iliad', '0012-002.xml': 'Odyssey'}"
      ]
     },
     "execution_count": 3,
     "metadata": {},
     "output_type": "execute_result"
    }
   ],
   "source": [
    "files"
   ]
  },
  {
   "cell_type": "code",
   "execution_count": 4,
   "metadata": {},
   "outputs": [
    {
     "data": {
      "text/plain": [
       "'Iliad'"
      ]
     },
     "execution_count": 4,
     "metadata": {},
     "output_type": "execute_result"
    }
   ],
   "source": [
    "files['0012-001.xml']"
   ]
  },
  {
   "cell_type": "code",
   "execution_count": 4,
   "metadata": {},
   "outputs": [
    {
     "data": {
      "text/plain": [
       "112670"
      ]
     },
     "execution_count": 4,
     "metadata": {},
     "output_type": "execute_result"
    }
   ],
   "source": [
    "worktokens['0012-001.xml']"
   ]
  },
  {
   "cell_type": "code",
   "execution_count": null,
   "metadata": {},
   "outputs": [],
   "source": []
  }
 ],
 "metadata": {
  "kernelspec": {
   "display_name": "Python 3",
   "language": "python",
   "name": "python3"
  },
  "language_info": {
   "codemirror_mode": {
    "name": "ipython",
    "version": 3
   },
   "file_extension": ".py",
   "mimetype": "text/x-python",
   "name": "python",
   "nbconvert_exporter": "python",
   "pygments_lexer": "ipython3",
   "version": "3.8.1"
  }
 },
 "nbformat": 4,
 "nbformat_minor": 4
}
